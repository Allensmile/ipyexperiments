{
 "cells": [
  {
   "cell_type": "markdown",
   "metadata": {},
   "source": [
    "# About\n",
    "\n",
    "It's difficult to use functions in jupyter notebook, since we want different steps to be in different cells, so one of the main functions of this module is to emulate a function like scope of the variables - which get destroyed at the end of the experiment. Some extra magic is added to reclaim GPU and General RAM."
   ]
  },
  {
   "cell_type": "code",
   "execution_count": 1,
   "metadata": {},
   "outputs": [],
   "source": [
    "%reload_ext autoreload\n",
    "%autoreload 2"
   ]
  },
  {
   "cell_type": "code",
   "execution_count": 2,
   "metadata": {},
   "outputs": [],
   "source": [
    "from ipyexperiments import *"
   ]
  },
  {
   "cell_type": "markdown",
   "metadata": {},
   "source": [
    "## Setup && Preload\n",
    "\n",
    "Prep."
   ]
  },
  {
   "cell_type": "code",
   "execution_count": 3,
   "metadata": {},
   "outputs": [],
   "source": [
    "import numpy as np\n",
    "import torch"
   ]
  },
  {
   "cell_type": "code",
   "execution_count": 4,
   "metadata": {},
   "outputs": [],
   "source": [
    "def consume_gpu(n): return torch.ones((n, n)).cuda()\n",
    "def consume_cpu(n): return np.ones((n, n))"
   ]
  },
  {
   "cell_type": "markdown",
   "metadata": {},
   "source": [
    "`pytorch` seems to latch on ~0.5GB GPU RAM, and ~2GB of RAM upon its first use, so let's pre-load it, so that the experiments' stats are not misleading."
   ]
  },
  {
   "cell_type": "code",
   "execution_count": 5,
   "metadata": {},
   "outputs": [],
   "source": [
    "z = consume_gpu(1)"
   ]
  },
  {
   "cell_type": "markdown",
   "metadata": {},
   "source": [
    "## Experiment 1 \n",
    "\n",
    "Let's consume a big chunk of non-GPU RAM and reclaim it at the end of the experiment"
   ]
  },
  {
   "cell_type": "code",
   "execution_count": 6,
   "metadata": {
    "scrolled": true
   },
   "outputs": [
    {
     "name": "stdout",
     "output_type": "stream",
     "text": [
      "Starting experiment...\n",
      "\n",
      "*** Current state:\n",
      "CPU RAM Free 14.2 GB | Proc size 2.2 GB\n",
      "GPU RAM Free  8.0 GB | Used 516.9 MB | Util 6.1% | Total 8.5 GB\n"
     ]
    }
   ],
   "source": [
    "exp1 = IPyExperiments() # consume some cpu ram"
   ]
  },
  {
   "cell_type": "code",
   "execution_count": 7,
   "metadata": {},
   "outputs": [],
   "source": [
    "x1 = consume_cpu(2**14) # about 1.5GB"
   ]
  },
  {
   "cell_type": "code",
   "execution_count": 8,
   "metadata": {},
   "outputs": [],
   "source": [
    "x2 = consume_cpu(2**14) # about 1.5GB"
   ]
  },
  {
   "cell_type": "code",
   "execution_count": 9,
   "metadata": {
    "scrolled": true
   },
   "outputs": [
    {
     "name": "stdout",
     "output_type": "stream",
     "text": [
      "Finishing experiment...\n",
      "\n",
      "*** RAM consumed during the experiment:\n",
      "GPU: 0 Bytes\n",
      "CPU: 4.3 GB\n",
      "\n",
      "*** RAM reclaimed at the end of the experiment:\n",
      "GPU: 0 Bytes (100.00%)\n",
      "CPU: 4.3 GB (99.99%)\n",
      "\n",
      "*** Current state:\n",
      "CPU RAM Free 14.2 GB | Proc size 2.2 GB\n",
      "GPU RAM Free  8.0 GB | Used 516.9 MB | Util 6.1% | Total 8.5 GB\n"
     ]
    }
   ],
   "source": [
    "del exp1 # finish experiment"
   ]
  },
  {
   "cell_type": "markdown",
   "metadata": {},
   "source": [
    "## Experiment 2\n",
    "\n",
    "Let's consume a big chunk of non-GPU and GPU RAM and reclaim both at the end of the experiment"
   ]
  },
  {
   "cell_type": "code",
   "execution_count": 10,
   "metadata": {
    "scrolled": true
   },
   "outputs": [
    {
     "name": "stdout",
     "output_type": "stream",
     "text": [
      "Starting experiment...\n",
      "\n",
      "*** Current state:\n",
      "CPU RAM Free 14.2 GB | Proc size 2.2 GB\n",
      "GPU RAM Free  8.0 GB | Used 516.9 MB | Util 6.1% | Total 8.5 GB\n"
     ]
    }
   ],
   "source": [
    "exp2 = IPyExperiments() # consume some gpu and cpu ram"
   ]
  },
  {
   "cell_type": "code",
   "execution_count": 11,
   "metadata": {},
   "outputs": [],
   "source": [
    "x1 = consume_cpu(2**14) # about 1.5GB"
   ]
  },
  {
   "cell_type": "code",
   "execution_count": 12,
   "metadata": {},
   "outputs": [],
   "source": [
    "x2 = consume_gpu(2**14) # about 1GB"
   ]
  },
  {
   "cell_type": "code",
   "execution_count": 13,
   "metadata": {
    "scrolled": true
   },
   "outputs": [
    {
     "name": "stdout",
     "output_type": "stream",
     "text": [
      "Finishing experiment...\n",
      "\n",
      "*** RAM consumed during the experiment:\n",
      "GPU: 1.1 GB\n",
      "CPU: 2.1 GB\n",
      "\n",
      "*** RAM reclaimed at the end of the experiment:\n",
      "GPU: 1.1 GB (100.00%)\n",
      "CPU: 2.1 GB (100.00%)\n",
      "\n",
      "*** Current state:\n",
      "CPU RAM Free 14.2 GB | Proc size 2.2 GB\n",
      "GPU RAM Free  8.0 GB | Used 516.9 MB | Util 6.1% | Total 8.5 GB\n"
     ]
    }
   ],
   "source": [
    "del exp2 # finish experiment"
   ]
  }
 ],
 "metadata": {
  "hide_input": false,
  "kernelspec": {
   "display_name": "Python 3",
   "language": "python",
   "name": "python3"
  },
  "language_info": {
   "codemirror_mode": {
    "name": "ipython",
    "version": 3
   },
   "file_extension": ".py",
   "mimetype": "text/x-python",
   "name": "python",
   "nbconvert_exporter": "python",
   "pygments_lexer": "ipython3",
   "version": "3.6.6"
  },
  "toc": {
   "nav_menu": {},
   "number_sections": true,
   "sideBar": true,
   "skip_h1_title": false,
   "title_cell": "Table of Contents",
   "title_sidebar": "Contents",
   "toc_cell": false,
   "toc_position": {},
   "toc_section_display": true,
   "toc_window_display": true
  },
  "varInspector": {
   "cols": {
    "lenName": 16,
    "lenType": 16,
    "lenVar": 40
   },
   "kernels_config": {
    "python": {
     "delete_cmd_postfix": "",
     "delete_cmd_prefix": "del ",
     "library": "var_list.py",
     "varRefreshCmd": "print(var_dic_list())"
    },
    "r": {
     "delete_cmd_postfix": ") ",
     "delete_cmd_prefix": "rm(",
     "library": "var_list.r",
     "varRefreshCmd": "cat(var_dic_list()) "
    }
   },
   "position": {
    "height": "323px",
    "left": "956px",
    "right": "20px",
    "top": "152px",
    "width": "350px"
   },
   "types_to_exclude": [
    "module",
    "function",
    "builtin_function_or_method",
    "instance",
    "_Feature"
   ],
   "window_display": false
  }
 },
 "nbformat": 4,
 "nbformat_minor": 2
}
