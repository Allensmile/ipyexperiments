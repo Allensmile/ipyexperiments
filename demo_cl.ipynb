{
 "cells": [
  {
   "cell_type": "markdown",
   "metadata": {},
   "source": [
    "# CellLogger Demo"
   ]
  },
  {
   "cell_type": "code",
   "execution_count": 1,
   "metadata": {},
   "outputs": [],
   "source": [
    "%reload_ext autoreload\n",
    "%autoreload 2"
   ]
  },
  {
   "cell_type": "code",
   "execution_count": 2,
   "metadata": {},
   "outputs": [],
   "source": [
    "import numpy as np\n",
    "import torch\n",
    "from ipyexperiments import *"
   ]
  },
  {
   "cell_type": "code",
   "execution_count": 3,
   "metadata": {},
   "outputs": [],
   "source": [
    "def consume_cpu_ram(n): return np.ones((n, n))\n",
    "def consume_gpu_ram(n): return torch.ones((n, n)).cuda()\n",
    "def consume_cpu_ram_128mb(): return consume_cpu_ram(2**12)\n",
    "def consume_gpu_ram_256mb(): return consume_gpu_ram(2**13)"
   ]
  },
  {
   "cell_type": "code",
   "execution_count": 4,
   "metadata": {},
   "outputs": [
    {
     "name": "stdout",
     "output_type": "stream",
     "text": [
      "\n",
      "*** Experiment started with the Pytorch backend\n",
      "Device: ID 0, GeForce GTX 1070 Ti (8119 RAM)\n",
      "\n",
      "･ RAM: △Consumed △Peaked  Used Total | Exec time 0.000s\n",
      "･ CPU:         0       0     2152 MB   |\n",
      "･ GPU:         0       0     1982 MB   |\n"
     ]
    }
   ],
   "source": [
    "exp1 = IPyExperimentsPytorch(exp_enable=False)"
   ]
  },
  {
   "cell_type": "code",
   "execution_count": null,
   "metadata": {},
   "outputs": [
    {
     "name": "stdout",
     "output_type": "stream",
     "text": [
      "･ RAM: △Consumed △Peaked  Used Total | Exec time 0.059s\n",
      "･ CPU:       256       0     2408 MB   |\n",
      "･ GPU:         0       0     1982 MB   |\n"
     ]
    }
   ],
   "source": [
    "# consume, consume more\n",
    "a1 = consume_cpu_ram_128mb()\n",
    "a2 = consume_cpu_ram_128mb()"
   ]
  },
  {
   "cell_type": "code",
   "execution_count": null,
   "metadata": {},
   "outputs": [
    {
     "name": "stdout",
     "output_type": "stream",
     "text": [
      "･ RAM: △Consumed △Peaked  Used Total | Exec time 0.071s\n",
      "･ CPU:       128     128     2280 MB   |\n",
      "･ GPU:         0       0     1982 MB   |\n"
     ]
    }
   ],
   "source": [
    "# consume, consume more, then release some (temporarily requires double the memory)\n",
    "a1 = consume_cpu_ram_128mb()\n",
    "a2 = consume_cpu_ram_128mb()\n",
    "del a1"
   ]
  },
  {
   "cell_type": "code",
   "execution_count": null,
   "metadata": {},
   "outputs": [
    {
     "name": "stdout",
     "output_type": "stream",
     "text": [
      "･ RAM: △Consumed △Peaked  Used Total | Exec time 0.067s\n",
      "･ CPU:       128       0     2280 MB   |\n",
      "･ GPU:         0       0     1982 MB   |\n"
     ]
    }
   ],
   "source": [
    "# consume, release, then consume more (half the memory is needed at the peak)\n",
    "a1 = consume_cpu_ram_128mb()\n",
    "del a1\n",
    "a2 = consume_cpu_ram_128mb()"
   ]
  },
  {
   "cell_type": "code",
   "execution_count": null,
   "metadata": {},
   "outputs": [
    {
     "name": "stdout",
     "output_type": "stream",
     "text": [
      "･ RAM: △Consumed △Peaked  Used Total | Exec time 0.066s\n",
      "･ CPU:         0     256     2280 MB   |\n",
      "･ GPU:         0       0     1982 MB   |\n"
     ]
    }
   ],
   "source": [
    "# consume, consume more, release all (all memory get reclaimed)\n",
    "b1 = consume_cpu_ram_128mb()\n",
    "b2 = consume_cpu_ram_128mb()\n",
    "del b1\n",
    "del b2"
   ]
  },
  {
   "cell_type": "code",
   "execution_count": null,
   "metadata": {},
   "outputs": [
    {
     "name": "stdout",
     "output_type": "stream",
     "text": [
      "･ RAM: △Consumed △Peaked  Used Total | Exec time 0.173s\n",
      "･ CPU:         0       0     2280 MB   |\n",
      "･ GPU:       256     256     2238 MB   |\n"
     ]
    }
   ],
   "source": [
    "# same on gpu\n",
    "c1 = consume_gpu_ram_256mb()\n",
    "c2 = consume_gpu_ram_256mb()\n",
    "del c1"
   ]
  },
  {
   "cell_type": "code",
   "execution_count": null,
   "metadata": {},
   "outputs": [
    {
     "data": {
      "text/plain": [
       "CellLoggerMemory(used_delta=5234, peaked_delta=66832, used_total=2391519232)"
      ]
     },
     "execution_count": 10,
     "metadata": {},
     "output_type": "execute_result"
    },
    {
     "data": {
      "text/plain": [
       "CellLoggerMemory(used_delta=268435456, peaked_delta=268435456, used_total=2346713088)"
      ]
     },
     "execution_count": 10,
     "metadata": {},
     "output_type": "execute_result"
    },
    {
     "data": {
      "text/plain": [
       "CellLoggerTime(time_delta=0.17277002334594727)"
      ]
     },
     "execution_count": 10,
     "metadata": {},
     "output_type": "execute_result"
    },
    {
     "data": {
      "text/plain": [
       "268435456"
      ]
     },
     "execution_count": 10,
     "metadata": {},
     "output_type": "execute_result"
    },
    {
     "name": "stdout",
     "output_type": "stream",
     "text": [
      "･ RAM: △Consumed △Peaked  Used Total | Exec time 0.008s\n",
      "･ CPU:         0       0     2280 MB   |\n",
      "･ GPU:         0       0     2238 MB   |\n"
     ]
    }
   ],
   "source": [
    "# direct data accessor (in unrounded Bytes)\n",
    "cpu_mem, gpu_mem, time_data = exp1.cl.data\n",
    "cpu_mem\n",
    "gpu_mem\n",
    "time_data\n",
    "gpu_mem.used_delta"
   ]
  },
  {
   "cell_type": "code",
   "execution_count": null,
   "metadata": {},
   "outputs": [
    {
     "name": "stdout",
     "output_type": "stream",
     "text": [
      "･ RAM: △Consumed △Peaked  Used Total | Exec time 0.020s\n",
      "･ CPU:         0       0     2280 MB   |\n",
      "･ GPU:         0       0     2238 MB   |\n"
     ]
    }
   ],
   "source": [
    "exp1.cl.stop()"
   ]
  },
  {
   "cell_type": "code",
   "execution_count": null,
   "metadata": {},
   "outputs": [],
   "source": [
    "# there should be no log appearing, after the logger has been stopped\n",
    "a = consume_cpu_ram_128mb()"
   ]
  },
  {
   "cell_type": "code",
   "execution_count": null,
   "metadata": {},
   "outputs": [],
   "source": []
  },
  {
   "cell_type": "code",
   "execution_count": null,
   "metadata": {},
   "outputs": [],
   "source": [
    "%%javascript # prevent committing an unsaved notebook\n",
    "_=IPython.notebook.save_notebook()"
   ]
  }
 ],
 "metadata": {
  "hide_input": false,
  "kernelspec": {
   "display_name": "Python 3",
   "language": "python",
   "name": "python3"
  },
  "language_info": {
   "codemirror_mode": {
    "name": "ipython",
    "version": 3
   },
   "file_extension": ".py",
   "mimetype": "text/x-python",
   "name": "python",
   "nbconvert_exporter": "python",
   "pygments_lexer": "ipython3",
   "version": "3.7.1"
  },
  "toc": {
   "base_numbering": 1,
   "nav_menu": {},
   "number_sections": true,
   "sideBar": true,
   "skip_h1_title": false,
   "title_cell": "Table of Contents",
   "title_sidebar": "Contents",
   "toc_cell": false,
   "toc_position": {
    "height": "calc(100% - 180px)",
    "left": "10px",
    "top": "150px",
    "width": "285px"
   },
   "toc_section_display": true,
   "toc_window_display": true
  },
  "varInspector": {
   "cols": {
    "lenName": 16,
    "lenType": 16,
    "lenVar": 40
   },
   "kernels_config": {
    "python": {
     "delete_cmd_postfix": "",
     "delete_cmd_prefix": "del ",
     "library": "var_list.py",
     "varRefreshCmd": "print(var_dic_list())"
    },
    "r": {
     "delete_cmd_postfix": ") ",
     "delete_cmd_prefix": "rm(",
     "library": "var_list.r",
     "varRefreshCmd": "cat(var_dic_list()) "
    }
   },
   "position": {
    "height": "323px",
    "left": "956px",
    "right": "20px",
    "top": "152px",
    "width": "350px"
   },
   "types_to_exclude": [
    "module",
    "function",
    "builtin_function_or_method",
    "instance",
    "_Feature"
   ],
   "window_display": false
  }
 },
 "nbformat": 4,
 "nbformat_minor": 2
}
