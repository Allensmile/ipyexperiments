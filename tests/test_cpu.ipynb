{
 "cells": [
  {
   "cell_type": "code",
   "execution_count": 1,
   "metadata": {},
   "outputs": [],
   "source": [
    "%reload_ext autoreload\n",
    "%autoreload 2"
   ]
  },
  {
   "cell_type": "markdown",
   "metadata": {},
   "source": [
    "## Setup"
   ]
  },
  {
   "cell_type": "code",
   "execution_count": 2,
   "metadata": {},
   "outputs": [],
   "source": [
    "from math import isclose\n",
    "from ipyexperiments import IPyExperimentsCPU\n",
    "import ipyexperiments\n",
    "import re, numpy as np"
   ]
  },
  {
   "cell_type": "code",
   "execution_count": 3,
   "metadata": {},
   "outputs": [],
   "source": [
    "def consume_cpu(n): return np.ones((n, n))"
   ]
  },
  {
   "cell_type": "code",
   "execution_count": 4,
   "metadata": {},
   "outputs": [],
   "source": [
    "def check_defined(var_list, local_list): \n",
    "    for v in var_list: assert v in local_list, f\"var {v} should exist in locals()\"\n",
    "        \n",
    "def check_undefined(var_list, local_list):\n",
    "    for v in var_list: assert v not in local_list, f\"var {v} should not exist in locals()\"\n",
    "\n",
    "# --------------------------------------------------------------------- #\n",
    "# the following functions work with the captured output\n",
    "# output is captured by `%%capture output` from a cell before\n",
    "\n",
    "# *** Experiment memory:\n",
    "# RAM:  Consumed     Reclaimed\n",
    "# CPU: 255.8 MB 255.8 MB ( 99.99%)\n",
    "def get_consumed_reclaimed_size(output):\n",
    "    pat = re.compile('Consumed\\s+Reclaimed\\nCPU:\\s+([\\d\\.]+) MB\\s+([\\d\\.]+) MB\\s+\\((\\s*[\\d\\.]+)%\\)', flags=re.MULTILINE)\n",
    "    match = pat.findall(output)\n",
    "    print(match)\n",
    "    (consumed_size, reclaimed_size, reclaimed_pct) = map(float, match[0])\n",
    "    return consumed_size, reclaimed_size, reclaimed_pct\n",
    "\n",
    "def check_reclaimed(output):\n",
    "    # basic checks\n",
    "    to_match = [r'Starting experiment', 'Finishing experiment', r\"['x1', 'x2']\", r'Current state']\n",
    "    for s in to_match: assert re.search(s, output), f\"expecting string: {s}\"\n",
    "\n",
    "    # consumed/reclaimed checks\n",
    "    consumed_size, reclaimed_size, reclaimed_pct = get_consumed_reclaimed_size(output)\n",
    "    \n",
    "    # compare: numbers are within 2% equal\n",
    "    assert isclose(consumed_size, reclaimed_size, rel_tol=0.02), f\"Reclaimed all memory: {consumed_size} == {reclaimed_size}\"\n",
    "    assert reclaimed_pct > 99.9, \"99.9+% reclaimed\"\n",
    "\n",
    "def check_data(output, cpu_data):\n",
    "    consumed_size, reclaimed_size, reclaimed_pct = get_consumed_reclaimed_size(output)\n",
    "\n",
    "    # compare with data\n",
    "    final_consumed_size_stats  = cpu_data.consumed /2**20\n",
    "    final_reclaimed_size_stats = cpu_data.reclaimed/2**20\n",
    "    # numbers are within 2% equal\n",
    "    assert isclose(final_consumed_size_stats,  consumed_size, rel_tol=0.02), f\"Consumed {final_consumed_size_stats} vs reclaimed {cpu.consumed} memory\"\n",
    "    assert isclose(final_reclaimed_size_stats, reclaimed_size, rel_tol=0.02), f\"Reclaimed {final_reclaimed_size_stats} vs reclaimed {cpu.reclaimed} memory\""
   ]
  },
  {
   "cell_type": "code",
   "execution_count": null,
   "metadata": {},
   "outputs": [
    {
     "data": {
      "text/plain": [
       "'test_version'"
      ]
     },
     "execution_count": 5,
     "metadata": {},
     "output_type": "execute_result"
    }
   ],
   "source": [
    "\"\"\"test_version\"\"\"\n",
    "assert ipyexperiments.__version__, \"version check\""
   ]
  },
  {
   "cell_type": "markdown",
   "metadata": {},
   "source": [
    "## Basic container test\n"
   ]
  },
  {
   "cell_type": "code",
   "execution_count": null,
   "metadata": {},
   "outputs": [],
   "source": [
    "%%capture output\n",
    "exp1 = IPyExperimentsCPU() # consume some cpu ram\n",
    "\n",
    "x1 = consume_cpu(2**12)\n",
    "x2 = consume_cpu(2**12)\n",
    "check_defined(['x1', 'x2'], locals())\n",
    "\n",
    "del exp1 # finish experiment\n",
    "check_undefined(['x1', 'x2'], locals())"
   ]
  },
  {
   "cell_type": "code",
   "execution_count": null,
   "metadata": {},
   "outputs": [
    {
     "name": "stdout",
     "output_type": "stream",
     "text": [
      "\n",
      "*** Starting experiment...\n",
      "Backend: CPU-only\n",
      "\n",
      "*** Current state:\n",
      "RAM:   Used      Free     Total    Util\n",
      "CPU:  67.4 MB   15.8 GB  30.8 GB   0.42% \n",
      "\n",
      "\n",
      "\n",
      "*** Finishing experiment...\n",
      "\n",
      "*** Deleting the following local variables:\n",
      "['x1', 'x2']\n",
      "\n",
      "*** Experiment memory:\n",
      "RAM:  Consumed     Reclaimed\n",
      "CPU: 255.8 MB 255.8 MB (100.00%)\n",
      "\n",
      "*** Elapsed wallclock time:\n",
      "00:00:00\n",
      "\n",
      "*** Current state:\n",
      "RAM:   Used      Free     Total    Util\n",
      "CPU:  67.4 MB   15.8 GB  30.8 GB   0.42% \n",
      "\n",
      "\n",
      "\n",
      "[('255.8', '255.8', '100.00')]\n"
     ]
    }
   ],
   "source": [
    "output = str(output)\n",
    "print(output)\n",
    "check_reclaimed(output)"
   ]
  },
  {
   "cell_type": "code",
   "execution_count": null,
   "metadata": {},
   "outputs": [
    {
     "name": "stdout",
     "output_type": "stream",
     "text": [
      "[('255.8', '255.8', '100.00')]\n"
     ]
    },
    {
     "data": {
      "text/plain": [
       "(255.8, 255.8, 100.0)"
      ]
     },
     "execution_count": 8,
     "metadata": {},
     "output_type": "execute_result"
    }
   ],
   "source": [
    "def get_consumed_reclaimed_size(output):\n",
    "    pat = re.compile('Consumed\\s+Reclaimed\\nCPU:\\s+([\\d\\.]+) MB\\s+([\\d\\.]+) MB\\s+\\((\\s*[\\d\\.]+)%\\)', flags=re.MULTILINE)\n",
    "    match = pat.findall(output)\n",
    "    print(match)\n",
    "    (consumed_size, reclaimed_size, reclaimed_pct) = map(float, match[0])\n",
    "    return consumed_size, reclaimed_size, reclaimed_pct\n",
    "\n",
    "\n",
    "consumed_size, reclaimed_size, reclaimed_pct = get_consumed_reclaimed_size(output)\n",
    "consumed_size, reclaimed_size, reclaimed_pct\n",
    "    "
   ]
  },
  {
   "cell_type": "markdown",
   "metadata": {
    "scrolled": true
   },
   "source": [
    "## Test stats data and selective vars preservation"
   ]
  },
  {
   "cell_type": "code",
   "execution_count": null,
   "metadata": {},
   "outputs": [],
   "source": [
    "%%capture output\n",
    "exp2 = IPyExperimentsCPU() \n",
    "x1 = consume_cpu(2**12)\n",
    "\n",
    "cpu_data = exp2.data\n",
    "assert cpu_data\n",
    "print(cpu_data)\n",
    "\n",
    "exp2.keep_var_names('cpu_data')\n",
    "\n",
    "x2 = consume_cpu(2**12) \n",
    "\n",
    "cpu_data = exp2.data\n",
    "print(cpu_data)\n",
    "\n",
    "check_defined(['x1', 'x2', 'cpu_data'], locals())\n",
    "    \n",
    "cpu_data_final = exp2.finish() # finish experiment\n",
    "print(\"\\nNumerical data:\\n\", cpu_data_final)\n",
    "\n",
    "check_defined(['cpu_data_final'], locals())\n",
    "check_undefined(['x1', 'x2'], locals())"
   ]
  },
  {
   "cell_type": "code",
   "execution_count": null,
   "metadata": {},
   "outputs": [
    {
     "name": "stdout",
     "output_type": "stream",
     "text": [
      "\n",
      "*** Starting experiment...\n",
      "Backend: CPU-only\n",
      "\n",
      "*** Current state:\n",
      "RAM:   Used      Free     Total    Util\n",
      "CPU:  67.4 MB   15.8 GB  30.8 GB   0.42% \n",
      "\n",
      "\n",
      "IPyExperimentMemory(consumed=134082560, reclaimed=0, available=16880250880)\n",
      "IPyExperimentMemory(consumed=268439552, reclaimed=0, available=16745783296)\n",
      "\n",
      "*** Finishing experiment...\n",
      "\n",
      "*** Deleting the following local variables:\n",
      "['exp2', 'x1', 'x2']\n",
      "\n",
      "*** Keeping the following local variables:\n",
      "['cpu_data']\n",
      "\n",
      "*** Experiment memory:\n",
      "RAM:  Consumed     Reclaimed\n",
      "CPU: 256.0 MB 255.9 MB ( 99.98%)\n",
      "\n",
      "*** Elapsed wallclock time:\n",
      "00:00:00\n",
      "\n",
      "*** Current state:\n",
      "RAM:   Used      Free     Total    Util\n",
      "CPU:  67.5 MB   15.8 GB  30.8 GB   0.42% \n",
      "\n",
      "\n",
      "\n",
      "Numerical data:\n",
      " IPyExperimentMemory(consumed=268439552, reclaimed=268378112, available=17013096448)\n",
      "\n",
      "[('256.0', '255.9', ' 99.98')]\n",
      "[('256.0', '255.9', ' 99.98')]\n"
     ]
    }
   ],
   "source": [
    "output = str(output)\n",
    "print(output)\n",
    "check_reclaimed(output)\n",
    "check_data(output, cpu_data_final)"
   ]
  },
  {
   "cell_type": "markdown",
   "metadata": {},
   "source": [
    "## Using the context manager\n",
    "\n",
    "If you want to put all cells into one, you could simplify the experiment even further by using its context manager."
   ]
  },
  {
   "cell_type": "code",
   "execution_count": null,
   "metadata": {},
   "outputs": [],
   "source": [
    "%%capture output\n",
    "with IPyExperimentsCPU():\n",
    "    x1 = consume_cpu(2**12)\n",
    "    x2 = consume_cpu(2**12)\n",
    "    \n",
    "check_undefined(['x1', 'x2'], locals())"
   ]
  },
  {
   "cell_type": "code",
   "execution_count": null,
   "metadata": {},
   "outputs": [
    {
     "name": "stdout",
     "output_type": "stream",
     "text": [
      "\n",
      "*** Starting experiment...\n",
      "Backend: CPU-only\n",
      "\n",
      "*** Current state:\n",
      "RAM:   Used      Free     Total    Util\n",
      "CPU:  67.5 MB   15.8 GB  30.8 GB   0.42% \n",
      "\n",
      "\n",
      "\n",
      "*** Finishing experiment...\n",
      "\n",
      "*** Deleting the following local variables:\n",
      "['x1', 'x2']\n",
      "\n",
      "*** Experiment memory:\n",
      "RAM:  Consumed     Reclaimed\n",
      "CPU: 256.0 MB 256.0 MB (100.00%)\n",
      "\n",
      "*** Elapsed wallclock time:\n",
      "00:00:00\n",
      "\n",
      "*** Current state:\n",
      "RAM:   Used      Free     Total    Util\n",
      "CPU:  67.5 MB   15.8 GB  30.8 GB   0.42% \n",
      "\n",
      "\n",
      "\n",
      "[('256.0', '256.0', '100.00')]\n"
     ]
    }
   ],
   "source": [
    "output = str(output)\n",
    "print(output)\n",
    "check_reclaimed(output)"
   ]
  },
  {
   "cell_type": "code",
   "execution_count": null,
   "metadata": {},
   "outputs": [],
   "source": [
    "%%capture output\n",
    "with IPyExperimentsCPU() as exp: \n",
    "    x1 = consume_cpu(2**12)\n",
    "    z = \"some data\"\n",
    "    x2 = consume_cpu(2**12)\n",
    "    exp.keep_var_names('z')\n",
    "print(z)\n",
    "check_defined(['z'], locals())\n",
    "check_undefined(['x1', 'x2'], locals())"
   ]
  },
  {
   "cell_type": "code",
   "execution_count": null,
   "metadata": {},
   "outputs": [
    {
     "name": "stdout",
     "output_type": "stream",
     "text": [
      "\n",
      "*** Starting experiment...\n",
      "Backend: CPU-only\n",
      "\n",
      "*** Current state:\n",
      "RAM:   Used      Free     Total    Util\n",
      "CPU:  67.5 MB   15.8 GB  30.8 GB   0.42% \n",
      "\n",
      "\n",
      "\n",
      "*** Finishing experiment...\n",
      "\n",
      "*** Deleting the following local variables:\n",
      "['exp', 'x1', 'x2']\n",
      "\n",
      "*** Keeping the following local variables:\n",
      "['z']\n",
      "\n",
      "*** Experiment memory:\n",
      "RAM:  Consumed     Reclaimed\n",
      "CPU: 256.0 MB 256.0 MB ( 99.99%)\n",
      "\n",
      "*** Elapsed wallclock time:\n",
      "00:00:00\n",
      "\n",
      "*** Current state:\n",
      "RAM:   Used      Free     Total    Util\n",
      "CPU:  67.5 MB   15.8 GB  30.8 GB   0.42% \n",
      "\n",
      "\n",
      "some data\n",
      "\n",
      "[('256.0', '256.0', ' 99.99')]\n"
     ]
    }
   ],
   "source": [
    "output = str(output)\n",
    "print(output)\n",
    "check_reclaimed(output)"
   ]
  },
  {
   "cell_type": "markdown",
   "metadata": {},
   "source": [
    "## Deleting previously defined variables\n",
    "\n",
    "Here we test that we **cannot** correctly detect and delete variables used in the scope of the experiment, but which were already defined prior to the experiment."
   ]
  },
  {
   "cell_type": "code",
   "execution_count": null,
   "metadata": {},
   "outputs": [],
   "source": [
    "%%capture output\n",
    "x1 = 10\n",
    "x2 = 20\n",
    "with IPyExperimentsCPU(): \n",
    "    x1 = 10\n",
    "    x2 = 10000\n",
    "    x3 = consume_cpu(2**12)\n",
    "# x1 is the same value, so we can't tell the difference whether it was created before the experiment or not\n",
    "# x2 is different from previous value, but it could have been modified by some function indirectly and not used directly in the experiment\n",
    "check_defined(['x1', 'x2'], locals())\n",
    "# x3 is newly defined, so it gets deleted\n",
    "check_undefined(['x3'], locals())"
   ]
  },
  {
   "cell_type": "code",
   "execution_count": null,
   "metadata": {},
   "outputs": [
    {
     "name": "stdout",
     "output_type": "stream",
     "text": [
      "\n",
      "*** Starting experiment...\n",
      "Backend: CPU-only\n",
      "\n",
      "*** Current state:\n",
      "RAM:   Used      Free     Total    Util\n",
      "CPU:  67.5 MB   15.8 GB  30.8 GB   0.42% \n",
      "\n",
      "\n",
      "\n",
      "*** Finishing experiment...\n",
      "\n",
      "*** Deleting the following local variables:\n",
      "['x3']\n",
      "\n",
      "*** Experiment memory:\n",
      "RAM:  Consumed     Reclaimed\n",
      "CPU: 127.9 MB 127.9 MB ( 99.98%)\n",
      "\n",
      "*** Elapsed wallclock time:\n",
      "00:00:00\n",
      "\n",
      "*** Current state:\n",
      "RAM:   Used      Free     Total    Util\n",
      "CPU:  67.5 MB   15.8 GB  30.8 GB   0.42% \n",
      "\n",
      "\n",
      "\n",
      "[('127.9', '127.9', ' 99.98')]\n"
     ]
    }
   ],
   "source": [
    "output = str(output)\n",
    "print(output)\n",
    "check_reclaimed(output)"
   ]
  },
  {
   "cell_type": "code",
   "execution_count": null,
   "metadata": {},
   "outputs": [],
   "source": []
  },
  {
   "cell_type": "code",
   "execution_count": null,
   "metadata": {},
   "outputs": [],
   "source": [
    "%%javascript # prevent committing an unsaved notebook\n",
    "IPython.notebook.save_notebook()"
   ]
  }
 ],
 "metadata": {
  "hide_input": false,
  "kernelspec": {
   "display_name": "Python 3",
   "language": "python",
   "name": "python3"
  },
  "language_info": {
   "codemirror_mode": {
    "name": "ipython",
    "version": 3
   },
   "file_extension": ".py",
   "mimetype": "text/x-python",
   "name": "python",
   "nbconvert_exporter": "python",
   "pygments_lexer": "ipython3",
   "version": "3.7.1"
  },
  "toc": {
   "base_numbering": 1,
   "nav_menu": {},
   "number_sections": true,
   "sideBar": true,
   "skip_h1_title": false,
   "title_cell": "Table of Contents",
   "title_sidebar": "Contents",
   "toc_cell": false,
   "toc_position": {
    "height": "calc(100% - 180px)",
    "left": "10px",
    "top": "150px",
    "width": "285px"
   },
   "toc_section_display": true,
   "toc_window_display": true
  },
  "varInspector": {
   "cols": {
    "lenName": 16,
    "lenType": 16,
    "lenVar": 40
   },
   "kernels_config": {
    "python": {
     "delete_cmd_postfix": "",
     "delete_cmd_prefix": "del ",
     "library": "var_list.py",
     "varRefreshCmd": "print(var_dic_list())"
    },
    "r": {
     "delete_cmd_postfix": ") ",
     "delete_cmd_prefix": "rm(",
     "library": "var_list.r",
     "varRefreshCmd": "cat(var_dic_list()) "
    }
   },
   "position": {
    "height": "323px",
    "left": "956px",
    "right": "20px",
    "top": "152px",
    "width": "350px"
   },
   "types_to_exclude": [
    "module",
    "function",
    "builtin_function_or_method",
    "instance",
    "_Feature"
   ],
   "window_display": false
  }
 },
 "nbformat": 4,
 "nbformat_minor": 2
}
